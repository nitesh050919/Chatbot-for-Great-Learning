{
 "cells": [
  {
   "cell_type": "code",
   "execution_count": 10,
   "metadata": {
    "id": "5voheIfcxKtQ"
   },
   "outputs": [],
   "source": [
    "import warnings\n",
    "warnings.filterwarnings('ignore')"
   ]
  },
  {
   "cell_type": "markdown",
   "metadata": {
    "id": "7-aCIlf7yv_h"
   },
   "source": [
    "**Install Packages**"
   ]
  },
  {
   "cell_type": "code",
   "execution_count": 11,
   "metadata": {
    "colab": {
     "base_uri": "https://localhost:8080/"
    },
    "id": "PBxtJkTJgV8M",
    "outputId": "cf5a153c-a3af-431e-9d95-24e8c198616a"
   },
   "outputs": [
    {
     "name": "stdout",
     "output_type": "stream",
     "text": [
      "Requirement already satisfied: tensorflow==1.14 in /usr/local/lib/python3.6/dist-packages (1.14.0)\n",
      "Requirement already satisfied: tensorboard<1.15.0,>=1.14.0 in /usr/local/lib/python3.6/dist-packages (from tensorflow==1.14) (1.14.0)\n",
      "Requirement already satisfied: keras-preprocessing>=1.0.5 in /usr/local/lib/python3.6/dist-packages (from tensorflow==1.14) (1.1.2)\n",
      "Requirement already satisfied: protobuf>=3.6.1 in /usr/local/lib/python3.6/dist-packages (from tensorflow==1.14) (3.12.4)\n",
      "Requirement already satisfied: keras-applications>=1.0.6 in /usr/local/lib/python3.6/dist-packages (from tensorflow==1.14) (1.0.8)\n",
      "Requirement already satisfied: tensorflow-estimator<1.15.0rc0,>=1.14.0rc0 in /usr/local/lib/python3.6/dist-packages (from tensorflow==1.14) (1.14.0)\n",
      "Requirement already satisfied: astor>=0.6.0 in /usr/local/lib/python3.6/dist-packages (from tensorflow==1.14) (0.8.1)\n",
      "Requirement already satisfied: absl-py>=0.7.0 in /usr/local/lib/python3.6/dist-packages (from tensorflow==1.14) (0.10.0)\n",
      "Requirement already satisfied: wrapt>=1.11.1 in /usr/local/lib/python3.6/dist-packages (from tensorflow==1.14) (1.12.1)\n",
      "Requirement already satisfied: six>=1.10.0 in /usr/local/lib/python3.6/dist-packages (from tensorflow==1.14) (1.15.0)\n",
      "Requirement already satisfied: numpy<2.0,>=1.14.5 in /usr/local/lib/python3.6/dist-packages (from tensorflow==1.14) (1.19.5)\n",
      "Requirement already satisfied: grpcio>=1.8.6 in /usr/local/lib/python3.6/dist-packages (from tensorflow==1.14) (1.32.0)\n",
      "Requirement already satisfied: gast>=0.2.0 in /usr/local/lib/python3.6/dist-packages (from tensorflow==1.14) (0.3.3)\n",
      "Requirement already satisfied: wheel>=0.26 in /usr/local/lib/python3.6/dist-packages (from tensorflow==1.14) (0.36.2)\n",
      "Requirement already satisfied: termcolor>=1.1.0 in /usr/local/lib/python3.6/dist-packages (from tensorflow==1.14) (1.1.0)\n",
      "Requirement already satisfied: google-pasta>=0.1.6 in /usr/local/lib/python3.6/dist-packages (from tensorflow==1.14) (0.2.0)\n",
      "Requirement already satisfied: werkzeug>=0.11.15 in /usr/local/lib/python3.6/dist-packages (from tensorboard<1.15.0,>=1.14.0->tensorflow==1.14) (1.0.1)\n",
      "Requirement already satisfied: markdown>=2.6.8 in /usr/local/lib/python3.6/dist-packages (from tensorboard<1.15.0,>=1.14.0->tensorflow==1.14) (3.3.3)\n",
      "Requirement already satisfied: setuptools>=41.0.0 in /usr/local/lib/python3.6/dist-packages (from tensorboard<1.15.0,>=1.14.0->tensorflow==1.14) (53.0.0)\n",
      "Requirement already satisfied: h5py in /usr/local/lib/python3.6/dist-packages (from keras-applications>=1.0.6->tensorflow==1.14) (2.10.0)\n",
      "Requirement already satisfied: importlib-metadata; python_version < \"3.8\" in /usr/local/lib/python3.6/dist-packages (from markdown>=2.6.8->tensorboard<1.15.0,>=1.14.0->tensorflow==1.14) (3.4.0)\n",
      "Requirement already satisfied: zipp>=0.5 in /usr/local/lib/python3.6/dist-packages (from importlib-metadata; python_version < \"3.8\"->markdown>=2.6.8->tensorboard<1.15.0,>=1.14.0->tensorflow==1.14) (3.4.0)\n",
      "Requirement already satisfied: typing-extensions>=3.6.4; python_version < \"3.8\" in /usr/local/lib/python3.6/dist-packages (from importlib-metadata; python_version < \"3.8\"->markdown>=2.6.8->tensorboard<1.15.0,>=1.14.0->tensorflow==1.14) (3.7.4.3)\n"
     ]
    }
   ],
   "source": [
    "pip install tensorflow==1.14"
   ]
  },
  {
   "cell_type": "code",
   "execution_count": 12,
   "metadata": {
    "colab": {
     "base_uri": "https://localhost:8080/"
    },
    "id": "YUXIjH787mT0",
    "outputId": "e9626c9b-e4fc-4a3b-cbd6-3c3006dac91c"
   },
   "outputs": [
    {
     "name": "stdout",
     "output_type": "stream",
     "text": [
      "Requirement already satisfied: tflearn==0.3.2 in /usr/local/lib/python3.6/dist-packages (0.3.2)\n",
      "Requirement already satisfied: six in /usr/local/lib/python3.6/dist-packages (from tflearn==0.3.2) (1.15.0)\n",
      "Requirement already satisfied: Pillow in /usr/local/lib/python3.6/dist-packages (from tflearn==0.3.2) (7.0.0)\n",
      "Requirement already satisfied: numpy in /usr/local/lib/python3.6/dist-packages (from tflearn==0.3.2) (1.19.5)\n"
     ]
    }
   ],
   "source": [
    "pip install tflearn==0.3.2"
   ]
  },
  {
   "cell_type": "markdown",
   "metadata": {
    "id": "mA9bwVS3yW1f"
   },
   "source": [
    "**Importing  Library**"
   ]
  },
  {
   "cell_type": "code",
   "execution_count": 13,
   "metadata": {
    "id": "NTV_E5tuxVW6"
   },
   "outputs": [],
   "source": [
    "import nltk\n",
    "from nltk.stem.lancaster import LancasterStemmer\n",
    "stemmer = LancasterStemmer()\n",
    "\n",
    "#import pandas as pd\n",
    "#import numpy as np\n",
    "\n",
    "#import seaborn as sns\n",
    "#import matplotlib as plt\n",
    "#from sklearn.model_selection import train_test_split\n",
    "#import re\n",
    "import tflearn\n",
    "import tensorflow as tf\n",
    "\n",
    "import numpy\n",
    "#from sklearn.feature_extraction.text import CountVectorizer\n",
    "#from sklearn.metrics.pairwise import cosine_similarity\n",
    "import random\n",
    "#import string\n",
    "#from nltk.chat.util import Chat,reflections\n"
   ]
  },
  {
   "cell_type": "markdown",
   "metadata": {
    "id": "1LIgBVVjzChP"
   },
   "source": [
    "**import data from google drive**"
   ]
  },
  {
   "cell_type": "code",
   "execution_count": 14,
   "metadata": {
    "colab": {
     "base_uri": "https://localhost:8080/"
    },
    "id": "LxAc6iHUh2OQ",
    "outputId": "8857d4b6-e3c3-4cea-dee4-8ef1a492ede5"
   },
   "outputs": [
    {
     "name": "stdout",
     "output_type": "stream",
     "text": [
      "Drive already mounted at /content/drive; to attempt to forcibly remount, call drive.mount(\"/content/drive\", force_remount=True).\n"
     ]
    }
   ],
   "source": [
    "from google.colab import drive\n",
    "drive.mount('/content/drive')"
   ]
  },
  {
   "cell_type": "code",
   "execution_count": 15,
   "metadata": {
    "colab": {
     "base_uri": "https://localhost:8080/"
    },
    "id": "JKqgFs5oxcEN",
    "outputId": "a85b4170-9015-4d7b-d0db-0b7496f50022"
   },
   "outputs": [
    {
     "name": "stdout",
     "output_type": "stream",
     "text": [
      "{'intents': [{'tag': 'Intro', 'patterns': ['hi', 'how are you', 'is anyone there', 'hello', 'whats up', 'hey', 'yo', 'listen', 'please help me', 'i am learner from', 'i belong to', 'aiml batch', 'aifl batch', 'i am from', 'my pm is', 'blended', 'online', 'i am from', 'hey ya', 'talking to you for first time'], 'responses': ['Hello! how can i help you ?'], 'context_set': ''}, {'tag': 'Exit', 'patterns': ['thank you', 'thanks', 'cya', 'see you', 'later', 'see you later', 'goodbye', 'i am leaving', 'have a Good day', 'you helped me', 'thanks a lot', 'thanks a ton', 'you are the best', 'great help', 'too good', 'you are a good learning buddy'], 'responses': ['I hope I was able to assist you, Good Bye'], 'context_set': ''}, {'tag': 'Olympus', 'patterns': ['olympus', 'explain me how olympus works', 'I am not able to understand olympus', 'olympus window not working', 'no access to olympus', 'unable to see link in olympus', 'no link visible on olympus', 'whom to contact for olympus', 'lot of problem with olympus', 'olypus is not a good tool', 'lot of problems with olympus', 'how to use olympus', 'teach me olympus'], 'responses': ['Link: Olympus wiki'], 'context_set': ''}, {'tag': 'SL', 'patterns': ['i am not able to understand svm', 'explain me how machine learning works', 'i am not able to understand naive bayes', 'i am not able to understand logistic regression', 'i am not able to understand ensemble techb=niques', 'i am not able to understand knn', 'i am not able to understand knn imputer', 'i am not able to understand cross validation', 'i am not able to understand boosting', 'i am not able to understand random forest', 'i am not able to understand ada boosting', 'i am not able to understand gradient boosting', 'machine learning', 'ML', 'SL', 'supervised learning', 'knn', 'logistic regression', 'regression', 'classification', 'naive bayes', 'nb', 'ensemble techniques', 'bagging', 'boosting', 'ada boosting', 'ada', 'gradient boosting', 'hyper parameters'], 'responses': ['Link: Machine Learning wiki '], 'context_set': ''}, {'tag': 'NN', 'patterns': ['what is deep learning', 'unable to understand deep learning', 'explain me how deep learning works', 'i am not able to understand deep learning', 'not able to understand neural nets', 'very diffult to understand neural nets', 'unable to understand neural nets', 'ann', 'artificial intelligence', 'artificial neural networks', 'weights', 'activation function', 'hidden layers', 'softmax', 'sigmoid', 'relu', 'otimizer', 'forward propagation', 'backward propagation', 'epochs', 'epoch', 'what is an epoch', 'adam', 'sgd'], 'responses': ['Link: Neural Nets wiki'], 'context_set': ''}, {'tag': 'Bot', 'patterns': ['what is your name', 'who are you', 'name please', 'when are your hours of opertions', 'what are your working hours', 'hours of operation', 'working hours', 'hours'], 'responses': ['I am your virtual learning assistant'], 'context_set': ''}, {'tag': 'Profane', 'patterns': ['what the hell', 'bloody stupid bot', 'do you think you are very smart', 'screw you', 'i hate you', 'you are stupid', 'jerk', 'you are a joke', 'useless piece of shit'], 'responses': ['Please use respectful words'], 'context_set': ''}, {'tag': 'Ticket', 'patterns': ['my problem is not solved', 'you did not help me', 'not a good solution', 'bad solution', 'not good solution', 'no help', 'wasted my time', 'useless bot', 'create a ticket'], 'responses': ['Tarnsferring the request to your PM'], 'context_set': ''}]}\n"
     ]
    }
   ],
   "source": [
    "import json\n",
    "with open('/content/drive/MyDrive/GL Bot.json') as file:\n",
    "    Corpus = json.load(file)\n",
    "\n",
    "print(Corpus)"
   ]
  },
  {
   "cell_type": "markdown",
   "metadata": {
    "id": "bUU0rojPzXYG"
   },
   "source": [
    "**Data preprocessing**"
   ]
  },
  {
   "cell_type": "code",
   "execution_count": 16,
   "metadata": {
    "colab": {
     "base_uri": "https://localhost:8080/"
    },
    "id": "0rrIXjx0iziW",
    "outputId": "218a30d1-55bb-4f58-ba55-e85156c7c5a5"
   },
   "outputs": [
    {
     "name": "stdout",
     "output_type": "stream",
     "text": [
      "[nltk_data] Downloading package punkt to /root/nltk_data...\n",
      "[nltk_data]   Package punkt is already up-to-date!\n"
     ]
    },
    {
     "data": {
      "text/plain": [
       "True"
      ]
     },
     "execution_count": 16,
     "metadata": {
      "tags": []
     },
     "output_type": "execute_result"
    }
   ],
   "source": [
    "nltk.download('punkt')"
   ]
  },
  {
   "cell_type": "code",
   "execution_count": 17,
   "metadata": {
    "id": "pepgbYtMxg6H"
   },
   "outputs": [],
   "source": [
    "W =[]\n",
    "L = []\n",
    "doc_x = []\n",
    "doc_y = []\n",
    "\n",
    "for intent in Corpus['intents']:\n",
    "    for pattern in intent['patterns']:\n",
    "        w_temp = nltk.word_tokenize(pattern)\n",
    "        W.extend(w_temp)\n",
    "        doc_x.append(w_temp)\n",
    "        doc_y.append(intent[\"tag\"])\n",
    "\n",
    "    if intent['tag'] not in L:\n",
    "       L.append(intent['tag'])  "
   ]
  },
  {
   "cell_type": "markdown",
   "metadata": {
    "id": "v7F5C170zhTt"
   },
   "source": [
    "**Stemming**"
   ]
  },
  {
   "cell_type": "code",
   "execution_count": 18,
   "metadata": {
    "id": "kqMRCBrfzMsi"
   },
   "outputs": [],
   "source": [
    "W = [stemmer.stem(w.lower()) for w in W if w != \"?\"]\n",
    "W = sorted(list(set(W)))\n",
    "L = sorted(L)"
   ]
  },
  {
   "cell_type": "code",
   "execution_count": 19,
   "metadata": {
    "colab": {
     "base_uri": "https://localhost:8080/"
    },
    "id": "RBkMdvLB4B3p",
    "outputId": "65534412-9c80-48da-8ed9-ef7fd635d272"
   },
   "outputs": [
    {
     "data": {
      "text/plain": [
       "['a',\n",
       " 'abl',\n",
       " 'access',\n",
       " 'act',\n",
       " 'ad',\n",
       " 'adam',\n",
       " 'aifl',\n",
       " 'aiml',\n",
       " 'am',\n",
       " 'an',\n",
       " 'anyon',\n",
       " 'ar',\n",
       " 'art',\n",
       " 'backward',\n",
       " 'bad',\n",
       " 'bag',\n",
       " 'batch',\n",
       " 'bay',\n",
       " 'belong',\n",
       " 'best',\n",
       " 'blend',\n",
       " 'bloody',\n",
       " 'boost',\n",
       " 'bot',\n",
       " 'buddy',\n",
       " 'class',\n",
       " 'contact',\n",
       " 'cre',\n",
       " 'cross',\n",
       " 'cya',\n",
       " 'day',\n",
       " 'deep',\n",
       " 'did',\n",
       " 'diffult',\n",
       " 'do',\n",
       " 'ensembl',\n",
       " 'epoch',\n",
       " 'explain',\n",
       " 'first',\n",
       " 'for',\n",
       " 'forest',\n",
       " 'forward',\n",
       " 'from',\n",
       " 'funct',\n",
       " 'good',\n",
       " 'goodby',\n",
       " 'grady',\n",
       " 'gre',\n",
       " 'hat',\n",
       " 'hav',\n",
       " 'hel',\n",
       " 'hello',\n",
       " 'help',\n",
       " 'hey',\n",
       " 'hi',\n",
       " 'hid',\n",
       " 'hour',\n",
       " 'how',\n",
       " 'hyp',\n",
       " 'i',\n",
       " 'imput',\n",
       " 'in',\n",
       " 'intellig',\n",
       " 'is',\n",
       " 'jerk',\n",
       " 'jok',\n",
       " 'knn',\n",
       " 'lat',\n",
       " 'lay',\n",
       " 'learn',\n",
       " 'leav',\n",
       " 'link',\n",
       " 'list',\n",
       " 'log',\n",
       " 'lot',\n",
       " 'machin',\n",
       " 'me',\n",
       " 'ml',\n",
       " 'my',\n",
       " 'naiv',\n",
       " 'nam',\n",
       " 'nb',\n",
       " 'net',\n",
       " 'network',\n",
       " 'neur',\n",
       " 'no',\n",
       " 'not',\n",
       " 'of',\n",
       " 'olymp',\n",
       " 'olyp',\n",
       " 'on',\n",
       " 'onlin',\n",
       " 'op',\n",
       " 'opert',\n",
       " 'otim',\n",
       " 'paramet',\n",
       " 'piec',\n",
       " 'pleas',\n",
       " 'pm',\n",
       " 'problem',\n",
       " 'prop',\n",
       " 'random',\n",
       " 'regress',\n",
       " 'relu',\n",
       " 'screw',\n",
       " 'see',\n",
       " 'sgd',\n",
       " 'shit',\n",
       " 'sigmoid',\n",
       " 'sl',\n",
       " 'smart',\n",
       " 'softmax',\n",
       " 'solv',\n",
       " 'stupid',\n",
       " 'superv',\n",
       " 'svm',\n",
       " 'talk',\n",
       " 'teach',\n",
       " 'techb=niques',\n",
       " 'techn',\n",
       " 'thank',\n",
       " 'the',\n",
       " 'ther',\n",
       " 'think',\n",
       " 'ticket',\n",
       " 'tim',\n",
       " 'to',\n",
       " 'ton',\n",
       " 'too',\n",
       " 'tool',\n",
       " 'un',\n",
       " 'understand',\n",
       " 'up',\n",
       " 'us',\n",
       " 'useless',\n",
       " 'valid',\n",
       " 'very',\n",
       " 'vis',\n",
       " 'wast',\n",
       " 'weight',\n",
       " 'what',\n",
       " 'when',\n",
       " 'who',\n",
       " 'whom',\n",
       " 'window',\n",
       " 'with',\n",
       " 'work',\n",
       " 'ya',\n",
       " 'yo',\n",
       " 'you']"
      ]
     },
     "execution_count": 19,
     "metadata": {
      "tags": []
     },
     "output_type": "execute_result"
    }
   ],
   "source": [
    "W"
   ]
  },
  {
   "cell_type": "code",
   "execution_count": 20,
   "metadata": {
    "colab": {
     "base_uri": "https://localhost:8080/"
    },
    "id": "yqWmd0qY4Nrv",
    "outputId": "fb6454c6-ff68-410a-ed6a-66c66d7e6c80"
   },
   "outputs": [
    {
     "data": {
      "text/plain": [
       "['Bot', 'Exit', 'Intro', 'NN', 'Olympus', 'Profane', 'SL', 'Ticket']"
      ]
     },
     "execution_count": 20,
     "metadata": {
      "tags": []
     },
     "output_type": "execute_result"
    }
   ],
   "source": [
    "L"
   ]
  },
  {
   "cell_type": "markdown",
   "metadata": {
    "id": "eEvZUjxKzv6u"
   },
   "source": [
    "**Bag of words**"
   ]
  },
  {
   "cell_type": "code",
   "execution_count": 21,
   "metadata": {
    "id": "buOF9W5t1X3X"
   },
   "outputs": [],
   "source": [
    "Train = []\n",
    "Target = []\n",
    "#def bag_of_words(s,words):\n",
    "out_empty = [0 for _ in range(len(L))]\n",
    "\n",
    "for x, doc in enumerate(doc_x):\n",
    "    bag = []\n",
    "\n",
    "    w_temp = [stemmer.stem(w.lower()) for w in doc]\n",
    "\n",
    "    for w in W:\n",
    "        if w in w_temp:\n",
    "            bag.append(1)\n",
    "        else:\n",
    "            bag.append(0) \n",
    "\n",
    "    output_row = out_empty[:]   \n",
    "    output_row[L.index(doc_y[x])] = 1\n",
    "\n",
    "    Train.append(bag)\n",
    "    Target.append(output_row)"
   ]
  },
  {
   "cell_type": "code",
   "execution_count": 22,
   "metadata": {
    "id": "w5xQhbhk5j0z"
   },
   "outputs": [],
   "source": [
    "Train = numpy.array(Train)\n",
    "Target = numpy.array(Target)"
   ]
  },
  {
   "cell_type": "code",
   "execution_count": 23,
   "metadata": {
    "colab": {
     "base_uri": "https://localhost:8080/"
    },
    "id": "qVcPo2uo6DBu",
    "outputId": "96a843a7-d878-47df-990d-ca5ca937d511"
   },
   "outputs": [
    {
     "data": {
      "text/plain": [
       "array([[0, 0, 0, 0, 0, 0, 0, 0, 0, 0, 0, 0, 0, 0, 0, 0, 0, 0, 0, 0, 0, 0,\n",
       "        0, 0, 0, 0, 0, 0, 0, 0, 0, 0, 0, 0, 0, 0, 0, 0, 0, 0, 0, 0, 0, 0,\n",
       "        0, 0, 0, 0, 0, 0, 0, 0, 0, 0, 1, 0, 0, 0, 0, 0, 0, 0, 0, 0, 0, 0,\n",
       "        0, 0, 0, 0, 0, 0, 0, 0, 0, 0, 0, 0, 0, 0, 0, 0, 0, 0, 0, 0, 0, 0,\n",
       "        0, 0, 0, 0, 0, 0, 0, 0, 0, 0, 0, 0, 0, 0, 0, 0, 0, 0, 0, 0, 0, 0,\n",
       "        0, 0, 0, 0, 0, 0, 0, 0, 0, 0, 0, 0, 0, 0, 0, 0, 0, 0, 0, 0, 0, 0,\n",
       "        0, 0, 0, 0, 0, 0, 0, 0, 0, 0, 0, 0, 0, 0, 0, 0, 0, 0],\n",
       "       [0, 0, 0, 0, 0, 0, 0, 0, 0, 0, 0, 1, 0, 0, 0, 0, 0, 0, 0, 0, 0, 0,\n",
       "        0, 0, 0, 0, 0, 0, 0, 0, 0, 0, 0, 0, 0, 0, 0, 0, 0, 0, 0, 0, 0, 0,\n",
       "        0, 0, 0, 0, 0, 0, 0, 0, 0, 0, 0, 0, 0, 1, 0, 0, 0, 0, 0, 0, 0, 0,\n",
       "        0, 0, 0, 0, 0, 0, 0, 0, 0, 0, 0, 0, 0, 0, 0, 0, 0, 0, 0, 0, 0, 0,\n",
       "        0, 0, 0, 0, 0, 0, 0, 0, 0, 0, 0, 0, 0, 0, 0, 0, 0, 0, 0, 0, 0, 0,\n",
       "        0, 0, 0, 0, 0, 0, 0, 0, 0, 0, 0, 0, 0, 0, 0, 0, 0, 0, 0, 0, 0, 0,\n",
       "        0, 0, 0, 0, 0, 0, 0, 0, 0, 0, 0, 0, 0, 0, 0, 0, 0, 1],\n",
       "       [0, 0, 0, 0, 0, 0, 0, 0, 0, 0, 1, 0, 0, 0, 0, 0, 0, 0, 0, 0, 0, 0,\n",
       "        0, 0, 0, 0, 0, 0, 0, 0, 0, 0, 0, 0, 0, 0, 0, 0, 0, 0, 0, 0, 0, 0,\n",
       "        0, 0, 0, 0, 0, 0, 0, 0, 0, 0, 0, 0, 0, 0, 0, 0, 0, 0, 0, 1, 0, 0,\n",
       "        0, 0, 0, 0, 0, 0, 0, 0, 0, 0, 0, 0, 0, 0, 0, 0, 0, 0, 0, 0, 0, 0,\n",
       "        0, 0, 0, 0, 0, 0, 0, 0, 0, 0, 0, 0, 0, 0, 0, 0, 0, 0, 0, 0, 0, 0,\n",
       "        0, 0, 0, 0, 0, 0, 0, 0, 0, 0, 0, 0, 1, 0, 0, 0, 0, 0, 0, 0, 0, 0,\n",
       "        0, 0, 0, 0, 0, 0, 0, 0, 0, 0, 0, 0, 0, 0, 0, 0, 0, 0],\n",
       "       [0, 0, 0, 0, 0, 0, 0, 0, 0, 0, 0, 0, 0, 0, 0, 0, 0, 0, 0, 0, 0, 0,\n",
       "        0, 0, 0, 0, 0, 0, 0, 0, 0, 0, 0, 0, 0, 0, 0, 0, 0, 0, 0, 0, 0, 0,\n",
       "        0, 0, 0, 0, 0, 0, 0, 1, 0, 0, 0, 0, 0, 0, 0, 0, 0, 0, 0, 0, 0, 0,\n",
       "        0, 0, 0, 0, 0, 0, 0, 0, 0, 0, 0, 0, 0, 0, 0, 0, 0, 0, 0, 0, 0, 0,\n",
       "        0, 0, 0, 0, 0, 0, 0, 0, 0, 0, 0, 0, 0, 0, 0, 0, 0, 0, 0, 0, 0, 0,\n",
       "        0, 0, 0, 0, 0, 0, 0, 0, 0, 0, 0, 0, 0, 0, 0, 0, 0, 0, 0, 0, 0, 0,\n",
       "        0, 0, 0, 0, 0, 0, 0, 0, 0, 0, 0, 0, 0, 0, 0, 0, 0, 0],\n",
       "       [0, 0, 0, 0, 0, 0, 0, 0, 0, 0, 0, 0, 0, 0, 0, 0, 0, 0, 0, 0, 0, 0,\n",
       "        0, 0, 0, 0, 0, 0, 0, 0, 0, 0, 0, 0, 0, 0, 0, 0, 0, 0, 0, 0, 0, 0,\n",
       "        0, 0, 0, 0, 0, 0, 0, 0, 0, 0, 0, 0, 0, 0, 0, 0, 0, 0, 0, 0, 0, 0,\n",
       "        0, 0, 0, 0, 0, 0, 0, 0, 0, 0, 0, 0, 0, 0, 0, 0, 0, 0, 0, 0, 0, 0,\n",
       "        0, 0, 0, 0, 0, 0, 0, 0, 0, 0, 0, 0, 0, 0, 0, 0, 0, 0, 0, 0, 0, 0,\n",
       "        0, 0, 0, 0, 0, 0, 0, 0, 0, 0, 0, 0, 0, 0, 0, 0, 0, 0, 0, 0, 0, 0,\n",
       "        1, 0, 0, 0, 0, 0, 0, 0, 1, 0, 0, 0, 0, 0, 0, 0, 0, 0]])"
      ]
     },
     "execution_count": 23,
     "metadata": {
      "tags": []
     },
     "output_type": "execute_result"
    }
   ],
   "source": [
    "Train[:5]"
   ]
  },
  {
   "cell_type": "markdown",
   "metadata": {
    "id": "nZ2os5oXz9rl"
   },
   "source": [
    "**Implement Fully connected neural net model**"
   ]
  },
  {
   "cell_type": "code",
   "execution_count": 24,
   "metadata": {
    "colab": {
     "base_uri": "https://localhost:8080/"
    },
    "id": "73h98kxh6VXu",
    "outputId": "5efcd55a-c501-46de-b2b8-7935f1df22f2"
   },
   "outputs": [
    {
     "name": "stdout",
     "output_type": "stream",
     "text": [
      "WARNING:tensorflow:From /usr/local/lib/python3.6/dist-packages/tflearn/layers/core.py:81: The name tf.placeholder is deprecated. Please use tf.compat.v1.placeholder instead.\n",
      "\n",
      "WARNING:tensorflow:From /usr/local/lib/python3.6/dist-packages/tflearn/initializations.py:174: calling TruncatedNormal.__init__ (from tensorflow.python.ops.init_ops) with dtype is deprecated and will be removed in a future version.\n",
      "Instructions for updating:\n",
      "Call initializer instance with the dtype argument instead of passing it to the constructor\n",
      "WARNING:tensorflow:From /usr/local/lib/python3.6/dist-packages/tflearn/optimizers.py:238: The name tf.train.AdamOptimizer is deprecated. Please use tf.compat.v1.train.AdamOptimizer instead.\n",
      "\n",
      "WARNING:tensorflow:From /usr/local/lib/python3.6/dist-packages/tflearn/objectives.py:66: calling reduce_sum_v1 (from tensorflow.python.ops.math_ops) with keep_dims is deprecated and will be removed in a future version.\n",
      "Instructions for updating:\n",
      "keep_dims is deprecated, use keepdims instead\n",
      "WARNING:tensorflow:From /usr/local/lib/python3.6/dist-packages/tflearn/summaries.py:46: The name tf.summary.scalar is deprecated. Please use tf.compat.v1.summary.scalar instead.\n",
      "\n",
      "WARNING:tensorflow:From /usr/local/lib/python3.6/dist-packages/tensorflow/python/ops/math_grad.py:1250: add_dispatch_support.<locals>.wrapper (from tensorflow.python.ops.array_ops) is deprecated and will be removed in a future version.\n",
      "Instructions for updating:\n",
      "Use tf.where in 2.0, which has the same broadcast rule as np.where\n",
      "WARNING:tensorflow:From /usr/local/lib/python3.6/dist-packages/tflearn/helpers/trainer.py:134: The name tf.train.Saver is deprecated. Please use tf.compat.v1.train.Saver instead.\n",
      "\n"
     ]
    }
   ],
   "source": [
    "from tensorflow.python.framework import ops\n",
    "ops.reset_default_graph()\n",
    "\n",
    "FCNN = tflearn.input_data(shape=[None, len(Train[0])])\n",
    "FCNN = tflearn.fully_connected(FCNN, 8)\n",
    "FCNN = tflearn.fully_connected(FCNN, 8)\n",
    "FCNN = tflearn.fully_connected(FCNN, len(Target[0]), activation=\"softmax\")\n",
    "\n",
    "FCNN = tflearn.regression(FCNN)\n",
    "\n",
    "model = tflearn.DNN(FCNN)"
   ]
  },
  {
   "cell_type": "markdown",
   "metadata": {
    "id": "sAn4CwPu0RZY"
   },
   "source": [
    "**Train the model**"
   ]
  },
  {
   "cell_type": "code",
   "execution_count": 26,
   "metadata": {
    "colab": {
     "base_uri": "https://localhost:8080/"
    },
    "id": "9SZV4kvY74oY",
    "outputId": "46bd1ec4-885d-4da5-a1c2-b8cfe7064b30"
   },
   "outputs": [
    {
     "name": "stdout",
     "output_type": "stream",
     "text": [
      "Training Step: 6399  | total loss: \u001b[1m\u001b[32m1.03920\u001b[0m\u001b[0m | time: 0.083s\n",
      "| Adam | epoch: 400 | loss: 1.03920 - acc: 0.9100 -- iter: 120/128\n",
      "Training Step: 6400  | total loss: \u001b[1m\u001b[32m0.93553\u001b[0m\u001b[0m | time: 0.087s\n",
      "| Adam | epoch: 400 | loss: 0.93553 - acc: 0.9190 -- iter: 128/128\n",
      "--\n",
      "INFO:tensorflow:/content/model.tflearn is not in all_model_checkpoint_paths. Manually adding it.\n"
     ]
    }
   ],
   "source": [
    "model.fit(Train, Target, n_epoch=200, batch_size=8, show_metric=True)\n",
    "\n",
    "model.save(\"model.tflearn\")"
   ]
  },
  {
   "cell_type": "markdown",
   "metadata": {
    "id": "OnHfeCxw2TdN"
   },
   "source": [
    "**Convert input user string into bag of words**"
   ]
  },
  {
   "cell_type": "code",
   "execution_count": 27,
   "metadata": {
    "id": "50zw4YHTRm69"
   },
   "outputs": [],
   "source": [
    "def bag_of_words(s,W):\n",
    "    bag = [0 for _ in range(len(W))]\n",
    "\n",
    "    s_words = nltk.word_tokenize(s)\n",
    "    s_words = [stemmer.stem(word.lower()) for word in s_words]\n",
    "\n",
    "    for se in s_words:\n",
    "        for i, w in enumerate(W):\n",
    "            if w == se:\n",
    "                bag[i] = (1)\n",
    "    return numpy.array(bag)"
   ]
  },
  {
   "cell_type": "markdown",
   "metadata": {
    "id": "_-hs5lTm2dyc"
   },
   "source": [
    "**call neural net model to make predictions**"
   ]
  },
  {
   "cell_type": "code",
   "execution_count": 28,
   "metadata": {
    "id": "E31vaX5h52ur"
   },
   "outputs": [],
   "source": [
    "def chat():\n",
    "    print(\"chat with ramos(type: stop to quit)\")\n",
    "    print(\"if answer is not right(type: *)\")\n",
    "    while True:\n",
    "        inp = input(\"\\n\\nYou: \")\n",
    "        if inp.lower() ==\"*\":\n",
    "            print(\"Bot: Please rephrase your question and try again\")\n",
    "        if inp.lower() == \"quit\":\n",
    "            break\n",
    "\n",
    "        results = model.predict([bag_of_words(inp,W)])\n",
    "        results_index = numpy.argmax(results)\n",
    "        tag = L[results_index]\n",
    "\n",
    "        for tg in Corpus[\"intents\"]:\n",
    "            if tg['tag'] == tag:\n",
    "                responses = tg['responses']\n",
    "        print(random.choice(responses))"
   ]
  },
  {
   "cell_type": "markdown",
   "metadata": {
    "id": "NJ5Ch2hV2xzR"
   },
   "source": [
    "**calling chat function**"
   ]
  },
  {
   "cell_type": "code",
   "execution_count": 29,
   "metadata": {
    "colab": {
     "base_uri": "https://localhost:8080/"
    },
    "id": "vNzyWApc9uAR",
    "outputId": "210603d0-ccce-4e71-f819-5d62c2ca54e2"
   },
   "outputs": [
    {
     "name": "stdout",
     "output_type": "stream",
     "text": [
      "chat with ramos(type: stop to quit)\n",
      "if answer is not right(type: *)\n",
      "\n",
      "\n",
      "You: hello\n",
      "Hello! how can i help you ?\n",
      "\n",
      "\n",
      "You: greetings\n",
      "Hello! how can i help you ?\n",
      "\n",
      "\n",
      "You: explain me how olympus works\n",
      "Link: Olympus wiki\n",
      "\n",
      "\n",
      "You: i am not able to understand svm\n",
      "Link: Machine Learning wiki \n",
      "\n",
      "\n",
      "You: when are your hours of opertions\n",
      "I am your virtual learning assistant\n",
      "\n",
      "\n",
      "You: bloody stupid bot'\n",
      "Please use respectful words\n",
      "\n",
      "\n",
      "You: my problem is not solved\n",
      "Tarnsferring the request to your PM\n",
      "\n",
      "\n",
      "You: quit\n"
     ]
    }
   ],
   "source": [
    "chat()"
   ]
  }
 ],
 "metadata": {
  "colab": {
   "collapsed_sections": [],
   "name": "Untitled8.ipynb",
   "provenance": []
  },
  "kernelspec": {
   "display_name": "Python 3",
   "language": "python",
   "name": "python3"
  },
  "language_info": {
   "codemirror_mode": {
    "name": "ipython",
    "version": 3
   },
   "file_extension": ".py",
   "mimetype": "text/x-python",
   "name": "python",
   "nbconvert_exporter": "python",
   "pygments_lexer": "ipython3",
   "version": "3.8.3"
  }
 },
 "nbformat": 4,
 "nbformat_minor": 1
}
